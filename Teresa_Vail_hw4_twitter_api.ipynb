{
 "cells": [
  {
   "cell_type": "markdown",
   "metadata": {},
   "source": [
    "# Total points 8"
   ]
  },
  {
   "cell_type": "markdown",
   "metadata": {},
   "source": [
    "# In  the homework\n",
    "- We'll collect climate change related tweet from twitter using REST API\n",
    "- Use tweets to populate Pandas DataFrames\n",
    "- Perform some elementary pandas operation to check data sanity\n",
    "\n",
    "\n",
    "**Please read**\n",
    "\n",
    "- https://developer.twitter.com/en/developer-terms/more-on-restricted-use-cases\n"
   ]
  },
  {
   "cell_type": "markdown",
   "metadata": {},
   "source": [
    "Before proceeding with homework.\n",
    "\n",
    "<font size=\"6\" color='red'> Create new app at https://apps.twitter.com/app/new  (You may have to create twitter account before this) </font>\n",
    "\n",
    "\n",
    "\n"
   ]
  },
  {
   "cell_type": "markdown",
   "metadata": {},
   "source": [
    "[twitter api reference index](https://developer.twitter.com/en/docs/api-reference-index)\n",
    "\n",
    "\n",
    "# POST oauth2/token\n",
    "Allows a registered application to obtain an OAuth 2 Bearer Token, which can be used to make API requests on an application's own behalf, without a user context.\n",
    "https://developer.twitter.com/en/docs/basics/authentication/api-reference/token\n"
   ]
  },
  {
   "cell_type": "markdown",
   "metadata": {},
   "source": [
    "Once you have create app, click on app details and keys and token tab\n",
    "\n",
    "<font size=\"6\" color='red'> write API key value for client_key and API secret key value for client_secret in the next cell</font>"
   ]
  },
  {
   "cell_type": "code",
   "execution_count": 2,
   "metadata": {},
   "outputs": [],
   "source": [
    "client_key = \"bIJz13N9uTSt9lJLhsNNpkB9f\"\n",
    "client_secret =  \"xe50C8MS7Z45lvyQFOUI1DoZzddyiiKj1lFpeu7Uo5zrfk6iEp\""
   ]
  },
  {
   "cell_type": "code",
   "execution_count": 3,
   "metadata": {},
   "outputs": [],
   "source": [
    "import requests\n",
    "import base64\n",
    "\n",
    "key_secret = '{}:{}'.format(client_key, client_secret).encode('ascii')\n",
    "b64_encoded_key = base64.b64encode(key_secret)\n",
    "b64_encoded_key = b64_encoded_key.decode('ascii')"
   ]
  },
  {
   "cell_type": "code",
   "execution_count": 4,
   "metadata": {},
   "outputs": [],
   "source": [
    "base_url = 'https://api.twitter.com/'\n",
    "auth_endpoint = base_url+'oauth2/token'\n",
    "\n",
    "auth_headers = { 'Authorization': 'Basic {}'.format(b64_encoded_key),\n",
    "                'Content-Type': 'application/x-www-form-urlencoded;charset=UTF-8'}\n",
    "\n",
    "auth_data = { 'grant_type': 'client_credentials'}\n",
    "\n"
   ]
  },
  {
   "cell_type": "markdown",
   "metadata": {},
   "source": [
    "Let's post to authentication endpoint and get the token to be used in subsequent REST API call"
   ]
  },
  {
   "cell_type": "code",
   "execution_count": 5,
   "metadata": {},
   "outputs": [
    {
     "data": {
      "text/plain": [
       "200"
      ]
     },
     "execution_count": 5,
     "metadata": {},
     "output_type": "execute_result"
    }
   ],
   "source": [
    "response = requests.post(auth_endpoint, headers=auth_headers, data=auth_data)\n",
    "response.status_code"
   ]
  },
  {
   "cell_type": "code",
   "execution_count": 6,
   "metadata": {},
   "outputs": [
    {
     "data": {
      "text/plain": [
       "{'token_type': 'bearer',\n",
       " 'access_token': 'AAAAAAAAAAAAAAAAAAAAAJ4megEAAAAA94JEOvq9csaKixevvuE6SfWlXTo%3DKJh1dOpFT75BC8iziEhGWnIm7pEy5teQcIdHIYbH5z0MD1AyRd'}"
      ]
     },
     "execution_count": 6,
     "metadata": {},
     "output_type": "execute_result"
    }
   ],
   "source": [
    "json_data =  response.json()\n",
    "json_data"
   ]
  },
  {
   "cell_type": "code",
   "execution_count": 7,
   "metadata": {},
   "outputs": [],
   "source": [
    "access_token = json_data['access_token']"
   ]
  },
  {
   "cell_type": "markdown",
   "metadata": {},
   "source": [
    "# Let's do some search on climate change\n",
    "This is how we got search endpoint\n",
    "\n",
    "https://developer.twitter.com/en/docs/tweets/search/api-reference/get-search-tweets"
   ]
  },
  {
   "cell_type": "code",
   "execution_count": 8,
   "metadata": {},
   "outputs": [],
   "source": [
    "max_tweets=100\n",
    "tw_limit=100  # we can get only 100 tweet per call with standard search api\n",
    "tweets = []\n",
    "users =[]"
   ]
  },
  {
   "cell_type": "code",
   "execution_count": 9,
   "metadata": {},
   "outputs": [],
   "source": [
    "search_headers = {'Authorization': 'Bearer {}'.format(access_token)    \n",
    "}\n",
    "\n",
    "parameters = { 'query': 'climate change',\n",
    "                'max_results': 100,\n",
    "                'expansions' :'author_id,referenced_tweets.id',\n",
    "                'tweet.fields' : 'created_at,entities,source,in_reply_to_user_id,geo,lang,public_metrics,reply_settings,referenced_tweets,conversation_id',\n",
    "                'user.fields': 'created_at,description,entities,id,location,name,pinned_tweet_id,profile_image_url,protected,public_metrics,url,username,verified,withheld'}\n",
    "\n",
    "search_url = base_url+'2/tweets/search/recent'\n",
    "\n",
    "response = requests.get(search_url, headers=search_headers, params=parameters)"
   ]
  },
  {
   "cell_type": "code",
   "execution_count": 10,
   "metadata": {
    "scrolled": true
   },
   "outputs": [],
   "source": [
    "climate_tweets = response.json()\n"
   ]
  },
  {
   "cell_type": "code",
   "execution_count": 11,
   "metadata": {},
   "outputs": [
    {
     "data": {
      "text/plain": [
       "100"
      ]
     },
     "execution_count": 11,
     "metadata": {},
     "output_type": "execute_result"
    }
   ],
   "source": [
    "len(climate_tweets['data'])"
   ]
  },
  {
   "cell_type": "code",
   "execution_count": 12,
   "metadata": {},
   "outputs": [],
   "source": [
    "tweets +=climate_tweets['data']\n"
   ]
  },
  {
   "cell_type": "code",
   "execution_count": 13,
   "metadata": {},
   "outputs": [],
   "source": [
    "ids = [tw['id'] for tw in climate_tweets['data']]"
   ]
  },
  {
   "cell_type": "code",
   "execution_count": 14,
   "metadata": {},
   "outputs": [],
   "source": [
    "min_id = min(ids)"
   ]
  },
  {
   "cell_type": "code",
   "execution_count": 15,
   "metadata": {},
   "outputs": [],
   "source": [
    "tw_ids = []\n",
    "tw_ids+=ids"
   ]
  },
  {
   "cell_type": "markdown",
   "metadata": {},
   "source": [
    "As per twitter api documentation we can use\n",
    "\n",
    "until_id:Returns results with an ID less than (that is, older than) or equal to the specified ID.\n",
    "\n",
    "to get older tweets"
   ]
  },
  {
   "cell_type": "markdown",
   "metadata": {},
   "source": [
    "# Q1 (.5 points) Modify only *parameters* dictionary in the following code so that subsequent call to climate change search returns older tweets with id less than minimum of previous tweets ids."
   ]
  },
  {
   "cell_type": "code",
   "execution_count": 16,
   "metadata": {},
   "outputs": [],
   "source": [
    " parameters = { 'query': 'climate change',\n",
    "                'max_results': tw_limit,\n",
    "                'until_id': min_id,\n",
    "                'expansions' :'author_id,referenced_tweets.id',\n",
    "                'tweet.fields' : 'created_at,entities,source,in_reply_to_user_id,geo,lang,public_metrics,reply_settings,referenced_tweets,conversation_id',\n",
    "                'user.fields': 'created_at,description,entities,id,location,name,pinned_tweet_id,profile_image_url,protected,public_metrics,url,username,verified,withheld'\n",
    "                 }\n",
    "\n",
    "for  i in range(max_tweets//tw_limit -1):\n",
    "    print(\"searching tweets with id  < {}\".format(min_id))\n",
    "    search_url = base_url+'2/tweets/search/recent'\n",
    "    response = requests.get(search_url, headers=search_headers, params=parameters)\n",
    "    climate_tweets = response.json()\n",
    "    ids = [tw['id'] for tw in climate_tweets['statuses']]\n",
    "    tw_ids+=ids\n",
    "    print(i, len(climate_tweets['data']))\n",
    "    min_id = min(ids)\n",
    "    tweets +=climate_tweets['data']\n",
    "    users.extend(climate_tweets['includes']['users'])\n",
    "    if 'next_token' in response.json()['meta']:\n",
    "\t\t\t\t\tparameters['next_token'] = response.json()['meta']['next_token']"
   ]
  },
  {
   "cell_type": "code",
   "execution_count": 17,
   "metadata": {},
   "outputs": [
    {
     "name": "stdout",
     "output_type": "stream",
     "text": [
      "Total tweets retrieved= 100\n"
     ]
    }
   ],
   "source": [
    "print('Total tweets retrieved= {}'.format(len(tweets)))"
   ]
  },
  {
   "cell_type": "markdown",
   "metadata": {},
   "source": [
    "# Let's print some tweets"
   ]
  },
  {
   "cell_type": "code",
   "execution_count": 18,
   "metadata": {},
   "outputs": [],
   "source": [
    "import pprint #pretty-print” arbitrary Python data structures. Tweets object has hierarchical struture\n",
    "max_tweet_to_print=4"
   ]
  },
  {
   "cell_type": "code",
   "execution_count": 19,
   "metadata": {},
   "outputs": [
    {
     "name": "stdout",
     "output_type": "stream",
     "text": [
      "[{'author_id': '532256657',\n",
      "  'conversation_id': '1549587618551062528',\n",
      "  'created_at': '2022-07-20T02:50:52.000Z',\n",
      "  'entities': {'mentions': [{'end': 18,\n",
      "                             'id': '18089606',\n",
      "                             'start': 3,\n",
      "                             'username': 'KurtSchlichter'}]},\n",
      "  'id': '1549587618551062528',\n",
      "  'lang': 'en',\n",
      "  'public_metrics': {'like_count': 0,\n",
      "                     'quote_count': 0,\n",
      "                     'reply_count': 0,\n",
      "                     'retweet_count': 328},\n",
      "  'referenced_tweets': [{'id': '1549549544681050112', 'type': 'retweeted'}],\n",
      "  'reply_settings': 'everyone',\n",
      "  'source': 'Twitter for iPad',\n",
      "  'text': 'RT @KurtSchlichter: 👏Climate👏change👏is👏a👏hoax👏'},\n",
      " {'author_id': '976078973418446848',\n",
      "  'conversation_id': '1549587617443975168',\n",
      "  'created_at': '2022-07-20T02:50:52.000Z',\n",
      "  'entities': {'mentions': [{'end': 11,\n",
      "                             'id': '34317032',\n",
      "                             'start': 3,\n",
      "                             'username': 'KHayhoe'}]},\n",
      "  'id': '1549587617443975168',\n",
      "  'lang': 'en',\n",
      "  'public_metrics': {'like_count': 0,\n",
      "                     'quote_count': 0,\n",
      "                     'reply_count': 0,\n",
      "                     'retweet_count': 505},\n",
      "  'referenced_tweets': [{'id': '1549459174844731392', 'type': 'retweeted'}],\n",
      "  'reply_settings': 'everyone',\n",
      "  'source': 'Twitter for iPhone',\n",
      "  'text': 'RT @KHayhoe: How does climate change affect heatwaves? A thread.\\n'\n",
      "          '1 - As the planet warms, extreme heat now begins earlier in the '\n",
      "          'year and s…'},\n",
      " {'author_id': '1516374858',\n",
      "  'conversation_id': '1549587616546168832',\n",
      "  'created_at': '2022-07-20T02:50:52.000Z',\n",
      "  'entities': {'mentions': [{'end': 12,\n",
      "                             'id': '4886039198',\n",
      "                             'start': 3,\n",
      "                             'username': 'hrdtimez'}]},\n",
      "  'id': '1549587616546168832',\n",
      "  'lang': 'en',\n",
      "  'public_metrics': {'like_count': 0,\n",
      "                     'quote_count': 0,\n",
      "                     'reply_count': 0,\n",
      "                     'retweet_count': 1},\n",
      "  'referenced_tweets': [{'id': '1549557847876595713', 'type': 'retweeted'}],\n",
      "  'reply_settings': 'everyone',\n",
      "  'source': 'Twitter for iPhone',\n",
      "  'text': 'RT @hrdtimez: and every day people are the ones that are being told '\n",
      "          'to “tackle climate change”'},\n",
      " {'author_id': '1285057671058591746',\n",
      "  'conversation_id': '1549587612582780928',\n",
      "  'created_at': '2022-07-20T02:50:51.000Z',\n",
      "  'entities': {'hashtags': [{'end': 195, 'start': 184, 'tag': 'Agenda2030'}],\n",
      "               'urls': [{'display_url': 'twitter.com/CaelorumAngelu…',\n",
      "                         'end': 219,\n",
      "                         'expanded_url': 'https://twitter.com/CaelorumAngelus/status/1549123326244798466',\n",
      "                         'start': 196,\n",
      "                         'url': 'https://t.co/KLc8IrfPuA'}]},\n",
      "  'id': '1549587612582780928',\n",
      "  'lang': 'en',\n",
      "  'public_metrics': {'like_count': 0,\n",
      "                     'quote_count': 0,\n",
      "                     'reply_count': 0,\n",
      "                     'retweet_count': 0},\n",
      "  'referenced_tweets': [{'id': '1549123326244798466', 'type': 'quoted'}],\n",
      "  'reply_settings': 'everyone',\n",
      "  'source': 'Twitter for Android',\n",
      "  'text': 'They are fast tracking their agendas.  Trying to hurry up with '\n",
      "          'plandemics, climate change etc to take guns, so you are defenseless '\n",
      "          \"on what they're about to do to you and your families #Agenda2030 \"\n",
      "          'https://t.co/KLc8IrfPuA'}]\n"
     ]
    }
   ],
   "source": [
    "pprint.pprint(tweets[0:max_tweet_to_print])"
   ]
  },
  {
   "cell_type": "markdown",
   "metadata": {},
   "source": [
    "Link to understand [tweet-object](https://developer.twitter.com/en/docs/tweets/data-dictionary/overview/tweet-object)\n",
    "\n",
    "Let'see some tweets"
   ]
  },
  {
   "cell_type": "code",
   "execution_count": 20,
   "metadata": {},
   "outputs": [
    {
     "name": "stdout",
     "output_type": "stream",
     "text": [
      "RT @KurtSchlichter: 👏Climate👏change👏is👏a👏hoax👏\n",
      "\n",
      "RT @KHayhoe: How does climate change affect heatwaves? A thread.\n",
      "1 - As the planet warms, extreme heat now begins earlier in the year and s…\n",
      "\n",
      "RT @hrdtimez: and every day people are the ones that are being told to “tackle climate change”\n",
      "\n",
      "They are fast tracking their agendas.  Trying to hurry up with plandemics, climate change etc to take guns, so you are defenseless on what they're about to do to you and your families #Agenda2030 https://t.co/KLc8IrfPuA\n",
      "\n"
     ]
    }
   ],
   "source": [
    "for status in tweets[0:max_tweet_to_print]:\n",
    "    print(status['text'] + '\\n')"
   ]
  },
  {
   "cell_type": "markdown",
   "metadata": {},
   "source": [
    "# Pandas DataFrame for storing tweet feed\n",
    "\n",
    "Create following date frame for storing tweets\n",
    "\n",
    "- **climate_feed_df** DataFrame for storing tweet\n",
    "- **user_df** DataFrame for storing user detail\n",
    "- **retweeted_status_df** for storing original tweet"
   ]
  },
  {
   "cell_type": "markdown",
   "metadata": {},
   "source": [
    "# Printing keys in tweets"
   ]
  },
  {
   "cell_type": "code",
   "execution_count": 21,
   "metadata": {},
   "outputs": [
    {
     "name": "stdout",
     "output_type": "stream",
     "text": [
      "dict_keys(['author_id', 'entities', 'reply_settings', 'lang', 'id', 'created_at', 'public_metrics', 'text', 'source', 'conversation_id', 'referenced_tweets'])\n",
      "11\n"
     ]
    }
   ],
   "source": [
    "print(tweets[1].keys())\n",
    "print(len(tweets[1].keys()))\n"
   ]
  },
  {
   "cell_type": "code",
   "execution_count": 22,
   "metadata": {},
   "outputs": [],
   "source": [
    "import pandas as pd\n",
    "import copy"
   ]
  },
  {
   "cell_type": "markdown",
   "metadata": {},
   "source": [
    "# Generators for building DataFrames"
   ]
  },
  {
   "cell_type": "markdown",
   "metadata": {},
   "source": [
    "# Q2 (2 point) Complete following   python generator *tweet_generator*. Generator yield modified tweet .\n",
    "For each tweet in tweets\n",
    "- Replace **author_id** attribute with **user_id**.\n",
    "- Replace **referenced_tweets** attribute with **referenced_tweets_ids** and value(s) with **tweet['referenced_tweets']['id']** value(s).\n",
    "- Keep other attributes in the tweet as such."
   ]
  },
  {
   "cell_type": "code",
   "execution_count": 23,
   "metadata": {},
   "outputs": [],
   "source": [
    "def tweet_generator(tweets):\n",
    "    for tweet in tweets:\n",
    "        modified_tweet= {}\n",
    "        \n",
    "        #Write your code here\n",
    "        \n",
    "        \n",
    "        yield modified_tweet       \n",
    "            \n",
    "            "
   ]
  },
  {
   "cell_type": "code",
   "execution_count": 24,
   "metadata": {},
   "outputs": [],
   "source": [
    "def tweet_generator(tweets):\n",
    "    for tweet in tweets:\n",
    "        try:\n",
    "            modified_tweet = copy.deepcopy(tweet)\n",
    "            modified_tweet['user_id'] = modified_tweet.pop('author_id')\n",
    "            modified_tweet['referenced_tweets_ids'] = modified_tweet['referenced_tweets'][0]['id']\n",
    "            modified_tweet['retweet_count'] = modified_tweet['public_metrics']['retweet_count']\n",
    "            yield modified_tweet     \n",
    "        except KeyError as e:\n",
    "            continue"
   ]
  },
  {
   "cell_type": "code",
   "execution_count": 25,
   "metadata": {},
   "outputs": [
    {
     "data": {
      "text/plain": [
       "[{'entities': {'mentions': [{'start': 3,\n",
       "     'end': 18,\n",
       "     'username': 'KurtSchlichter',\n",
       "     'id': '18089606'}]},\n",
       "  'reply_settings': 'everyone',\n",
       "  'lang': 'en',\n",
       "  'id': '1549587618551062528',\n",
       "  'created_at': '2022-07-20T02:50:52.000Z',\n",
       "  'public_metrics': {'retweet_count': 328,\n",
       "   'reply_count': 0,\n",
       "   'like_count': 0,\n",
       "   'quote_count': 0},\n",
       "  'text': 'RT @KurtSchlichter: 👏Climate👏change👏is👏a👏hoax👏',\n",
       "  'source': 'Twitter for iPad',\n",
       "  'conversation_id': '1549587618551062528',\n",
       "  'referenced_tweets': [{'type': 'retweeted', 'id': '1549549544681050112'}],\n",
       "  'user_id': '532256657',\n",
       "  'referenced_tweets_ids': '1549549544681050112',\n",
       "  'retweet_count': 328},\n",
       " {'entities': {'mentions': [{'start': 3,\n",
       "     'end': 11,\n",
       "     'username': 'KHayhoe',\n",
       "     'id': '34317032'}]},\n",
       "  'reply_settings': 'everyone',\n",
       "  'lang': 'en',\n",
       "  'id': '1549587617443975168',\n",
       "  'created_at': '2022-07-20T02:50:52.000Z',\n",
       "  'public_metrics': {'retweet_count': 505,\n",
       "   'reply_count': 0,\n",
       "   'like_count': 0,\n",
       "   'quote_count': 0},\n",
       "  'text': 'RT @KHayhoe: How does climate change affect heatwaves? A thread.\\n1 - As the planet warms, extreme heat now begins earlier in the year and s…',\n",
       "  'source': 'Twitter for iPhone',\n",
       "  'conversation_id': '1549587617443975168',\n",
       "  'referenced_tweets': [{'type': 'retweeted', 'id': '1549459174844731392'}],\n",
       "  'user_id': '976078973418446848',\n",
       "  'referenced_tweets_ids': '1549459174844731392',\n",
       "  'retweet_count': 505}]"
      ]
     },
     "execution_count": 25,
     "metadata": {},
     "output_type": "execute_result"
    }
   ],
   "source": [
    "# Checking  generator output\n",
    "list(tweet_generator(tweets[0:2]))"
   ]
  },
  {
   "cell_type": "code",
   "execution_count": 26,
   "metadata": {},
   "outputs": [],
   "source": [
    "climate_feed_df = pd.DataFrame(tweet_generator(tweets))"
   ]
  },
  {
   "cell_type": "code",
   "execution_count": 27,
   "metadata": {},
   "outputs": [
    {
     "data": {
      "text/html": [
       "<div>\n",
       "<style scoped>\n",
       "    .dataframe tbody tr th:only-of-type {\n",
       "        vertical-align: middle;\n",
       "    }\n",
       "\n",
       "    .dataframe tbody tr th {\n",
       "        vertical-align: top;\n",
       "    }\n",
       "\n",
       "    .dataframe thead th {\n",
       "        text-align: right;\n",
       "    }\n",
       "</style>\n",
       "<table border=\"1\" class=\"dataframe\">\n",
       "  <thead>\n",
       "    <tr style=\"text-align: right;\">\n",
       "      <th></th>\n",
       "      <th>entities</th>\n",
       "      <th>reply_settings</th>\n",
       "      <th>lang</th>\n",
       "      <th>id</th>\n",
       "      <th>created_at</th>\n",
       "      <th>public_metrics</th>\n",
       "      <th>text</th>\n",
       "      <th>source</th>\n",
       "      <th>conversation_id</th>\n",
       "      <th>referenced_tweets</th>\n",
       "      <th>user_id</th>\n",
       "      <th>referenced_tweets_ids</th>\n",
       "      <th>retweet_count</th>\n",
       "      <th>in_reply_to_user_id</th>\n",
       "    </tr>\n",
       "  </thead>\n",
       "  <tbody>\n",
       "    <tr>\n",
       "      <th>0</th>\n",
       "      <td>{'mentions': [{'start': 3, 'end': 18, 'usernam...</td>\n",
       "      <td>everyone</td>\n",
       "      <td>en</td>\n",
       "      <td>1549587618551062528</td>\n",
       "      <td>2022-07-20T02:50:52.000Z</td>\n",
       "      <td>{'retweet_count': 328, 'reply_count': 0, 'like...</td>\n",
       "      <td>RT @KurtSchlichter: 👏Climate👏change👏is👏a👏hoax👏</td>\n",
       "      <td>Twitter for iPad</td>\n",
       "      <td>1549587618551062528</td>\n",
       "      <td>[{'type': 'retweeted', 'id': '1549549544681050...</td>\n",
       "      <td>532256657</td>\n",
       "      <td>1549549544681050112</td>\n",
       "      <td>328</td>\n",
       "      <td>NaN</td>\n",
       "    </tr>\n",
       "    <tr>\n",
       "      <th>1</th>\n",
       "      <td>{'mentions': [{'start': 3, 'end': 11, 'usernam...</td>\n",
       "      <td>everyone</td>\n",
       "      <td>en</td>\n",
       "      <td>1549587617443975168</td>\n",
       "      <td>2022-07-20T02:50:52.000Z</td>\n",
       "      <td>{'retweet_count': 505, 'reply_count': 0, 'like...</td>\n",
       "      <td>RT @KHayhoe: How does climate change affect he...</td>\n",
       "      <td>Twitter for iPhone</td>\n",
       "      <td>1549587617443975168</td>\n",
       "      <td>[{'type': 'retweeted', 'id': '1549459174844731...</td>\n",
       "      <td>976078973418446848</td>\n",
       "      <td>1549459174844731392</td>\n",
       "      <td>505</td>\n",
       "      <td>NaN</td>\n",
       "    </tr>\n",
       "    <tr>\n",
       "      <th>2</th>\n",
       "      <td>{'mentions': [{'start': 3, 'end': 12, 'usernam...</td>\n",
       "      <td>everyone</td>\n",
       "      <td>en</td>\n",
       "      <td>1549587616546168832</td>\n",
       "      <td>2022-07-20T02:50:52.000Z</td>\n",
       "      <td>{'retweet_count': 1, 'reply_count': 0, 'like_c...</td>\n",
       "      <td>RT @hrdtimez: and every day people are the one...</td>\n",
       "      <td>Twitter for iPhone</td>\n",
       "      <td>1549587616546168832</td>\n",
       "      <td>[{'type': 'retweeted', 'id': '1549557847876595...</td>\n",
       "      <td>1516374858</td>\n",
       "      <td>1549557847876595713</td>\n",
       "      <td>1</td>\n",
       "      <td>NaN</td>\n",
       "    </tr>\n",
       "    <tr>\n",
       "      <th>3</th>\n",
       "      <td>{'hashtags': [{'start': 184, 'end': 195, 'tag'...</td>\n",
       "      <td>everyone</td>\n",
       "      <td>en</td>\n",
       "      <td>1549587612582780928</td>\n",
       "      <td>2022-07-20T02:50:51.000Z</td>\n",
       "      <td>{'retweet_count': 0, 'reply_count': 0, 'like_c...</td>\n",
       "      <td>They are fast tracking their agendas.  Trying ...</td>\n",
       "      <td>Twitter for Android</td>\n",
       "      <td>1549587612582780928</td>\n",
       "      <td>[{'type': 'quoted', 'id': '1549123326244798466'}]</td>\n",
       "      <td>1285057671058591746</td>\n",
       "      <td>1549123326244798466</td>\n",
       "      <td>0</td>\n",
       "      <td>NaN</td>\n",
       "    </tr>\n",
       "    <tr>\n",
       "      <th>4</th>\n",
       "      <td>{'mentions': [{'start': 3, 'end': 18, 'usernam...</td>\n",
       "      <td>everyone</td>\n",
       "      <td>en</td>\n",
       "      <td>1549587609302831104</td>\n",
       "      <td>2022-07-20T02:50:50.000Z</td>\n",
       "      <td>{'retweet_count': 1981, 'reply_count': 0, 'lik...</td>\n",
       "      <td>RT @KurtSchlichter: Climate change is a hoax d...</td>\n",
       "      <td>Twitter for iPhone</td>\n",
       "      <td>1549587609302831104</td>\n",
       "      <td>[{'type': 'retweeted', 'id': '1549389251149709...</td>\n",
       "      <td>565673259</td>\n",
       "      <td>1549389251149709312</td>\n",
       "      <td>1981</td>\n",
       "      <td>NaN</td>\n",
       "    </tr>\n",
       "    <tr>\n",
       "      <th>...</th>\n",
       "      <td>...</td>\n",
       "      <td>...</td>\n",
       "      <td>...</td>\n",
       "      <td>...</td>\n",
       "      <td>...</td>\n",
       "      <td>...</td>\n",
       "      <td>...</td>\n",
       "      <td>...</td>\n",
       "      <td>...</td>\n",
       "      <td>...</td>\n",
       "      <td>...</td>\n",
       "      <td>...</td>\n",
       "      <td>...</td>\n",
       "      <td>...</td>\n",
       "    </tr>\n",
       "    <tr>\n",
       "      <th>85</th>\n",
       "      <td>{'mentions': [{'start': 3, 'end': 11, 'usernam...</td>\n",
       "      <td>everyone</td>\n",
       "      <td>en</td>\n",
       "      <td>1549587373511540737</td>\n",
       "      <td>2022-07-20T02:49:54.000Z</td>\n",
       "      <td>{'retweet_count': 46, 'reply_count': 0, 'like_...</td>\n",
       "      <td>RT @joshgad: To look around and see what’s hap...</td>\n",
       "      <td>Twitter for iPhone</td>\n",
       "      <td>1549587373511540737</td>\n",
       "      <td>[{'type': 'retweeted', 'id': '1549474946035765...</td>\n",
       "      <td>930534103</td>\n",
       "      <td>1549474946035765248</td>\n",
       "      <td>46</td>\n",
       "      <td>NaN</td>\n",
       "    </tr>\n",
       "    <tr>\n",
       "      <th>86</th>\n",
       "      <td>{'mentions': [{'start': 3, 'end': 18, 'usernam...</td>\n",
       "      <td>everyone</td>\n",
       "      <td>en</td>\n",
       "      <td>1549587372672962560</td>\n",
       "      <td>2022-07-20T02:49:54.000Z</td>\n",
       "      <td>{'retweet_count': 8, 'reply_count': 0, 'like_c...</td>\n",
       "      <td>RT @CatInthehat002: Some of the worlds “elites...</td>\n",
       "      <td>Twitter Web App</td>\n",
       "      <td>1549587372672962560</td>\n",
       "      <td>[{'type': 'retweeted', 'id': '1549297077255294...</td>\n",
       "      <td>1540911226540400640</td>\n",
       "      <td>1549297077255294977</td>\n",
       "      <td>8</td>\n",
       "      <td>NaN</td>\n",
       "    </tr>\n",
       "    <tr>\n",
       "      <th>87</th>\n",
       "      <td>{'mentions': [{'start': 3, 'end': 19, 'usernam...</td>\n",
       "      <td>everyone</td>\n",
       "      <td>en</td>\n",
       "      <td>1549587371145961472</td>\n",
       "      <td>2022-07-20T02:49:53.000Z</td>\n",
       "      <td>{'retweet_count': 3, 'reply_count': 0, 'like_c...</td>\n",
       "      <td>RT @Climatepledgeco: Want to support Ukraine a...</td>\n",
       "      <td>Twitter Web App</td>\n",
       "      <td>1549587371145961472</td>\n",
       "      <td>[{'type': 'retweeted', 'id': '1549572165317558...</td>\n",
       "      <td>291212837</td>\n",
       "      <td>1549572165317558273</td>\n",
       "      <td>3</td>\n",
       "      <td>NaN</td>\n",
       "    </tr>\n",
       "    <tr>\n",
       "      <th>88</th>\n",
       "      <td>{'mentions': [{'start': 3, 'end': 18, 'usernam...</td>\n",
       "      <td>everyone</td>\n",
       "      <td>en</td>\n",
       "      <td>1549587370084810753</td>\n",
       "      <td>2022-07-20T02:49:53.000Z</td>\n",
       "      <td>{'retweet_count': 239, 'reply_count': 0, 'like...</td>\n",
       "      <td>RT @MattH_4America: \"Climate Change\" is a hoax...</td>\n",
       "      <td>Twitter for Android</td>\n",
       "      <td>1549587370084810753</td>\n",
       "      <td>[{'type': 'retweeted', 'id': '1549544142048468...</td>\n",
       "      <td>866348764432392192</td>\n",
       "      <td>1549544142048468998</td>\n",
       "      <td>239</td>\n",
       "      <td>NaN</td>\n",
       "    </tr>\n",
       "    <tr>\n",
       "      <th>89</th>\n",
       "      <td>{'mentions': [{'start': 3, 'end': 10, 'usernam...</td>\n",
       "      <td>everyone</td>\n",
       "      <td>en</td>\n",
       "      <td>1549587367756869632</td>\n",
       "      <td>2022-07-20T02:49:53.000Z</td>\n",
       "      <td>{'retweet_count': 110, 'reply_count': 0, 'like...</td>\n",
       "      <td>RT @shocks: it's 2008, the min wage is 7.25, a...</td>\n",
       "      <td>Twitter for iPhone</td>\n",
       "      <td>1549587367756869632</td>\n",
       "      <td>[{'type': 'retweeted', 'id': '1549437077040799...</td>\n",
       "      <td>460406062</td>\n",
       "      <td>1549437077040799747</td>\n",
       "      <td>110</td>\n",
       "      <td>NaN</td>\n",
       "    </tr>\n",
       "  </tbody>\n",
       "</table>\n",
       "<p>90 rows × 14 columns</p>\n",
       "</div>"
      ],
      "text/plain": [
       "                                             entities reply_settings lang  \\\n",
       "0   {'mentions': [{'start': 3, 'end': 18, 'usernam...       everyone   en   \n",
       "1   {'mentions': [{'start': 3, 'end': 11, 'usernam...       everyone   en   \n",
       "2   {'mentions': [{'start': 3, 'end': 12, 'usernam...       everyone   en   \n",
       "3   {'hashtags': [{'start': 184, 'end': 195, 'tag'...       everyone   en   \n",
       "4   {'mentions': [{'start': 3, 'end': 18, 'usernam...       everyone   en   \n",
       "..                                                ...            ...  ...   \n",
       "85  {'mentions': [{'start': 3, 'end': 11, 'usernam...       everyone   en   \n",
       "86  {'mentions': [{'start': 3, 'end': 18, 'usernam...       everyone   en   \n",
       "87  {'mentions': [{'start': 3, 'end': 19, 'usernam...       everyone   en   \n",
       "88  {'mentions': [{'start': 3, 'end': 18, 'usernam...       everyone   en   \n",
       "89  {'mentions': [{'start': 3, 'end': 10, 'usernam...       everyone   en   \n",
       "\n",
       "                     id                created_at  \\\n",
       "0   1549587618551062528  2022-07-20T02:50:52.000Z   \n",
       "1   1549587617443975168  2022-07-20T02:50:52.000Z   \n",
       "2   1549587616546168832  2022-07-20T02:50:52.000Z   \n",
       "3   1549587612582780928  2022-07-20T02:50:51.000Z   \n",
       "4   1549587609302831104  2022-07-20T02:50:50.000Z   \n",
       "..                  ...                       ...   \n",
       "85  1549587373511540737  2022-07-20T02:49:54.000Z   \n",
       "86  1549587372672962560  2022-07-20T02:49:54.000Z   \n",
       "87  1549587371145961472  2022-07-20T02:49:53.000Z   \n",
       "88  1549587370084810753  2022-07-20T02:49:53.000Z   \n",
       "89  1549587367756869632  2022-07-20T02:49:53.000Z   \n",
       "\n",
       "                                       public_metrics  \\\n",
       "0   {'retweet_count': 328, 'reply_count': 0, 'like...   \n",
       "1   {'retweet_count': 505, 'reply_count': 0, 'like...   \n",
       "2   {'retweet_count': 1, 'reply_count': 0, 'like_c...   \n",
       "3   {'retweet_count': 0, 'reply_count': 0, 'like_c...   \n",
       "4   {'retweet_count': 1981, 'reply_count': 0, 'lik...   \n",
       "..                                                ...   \n",
       "85  {'retweet_count': 46, 'reply_count': 0, 'like_...   \n",
       "86  {'retweet_count': 8, 'reply_count': 0, 'like_c...   \n",
       "87  {'retweet_count': 3, 'reply_count': 0, 'like_c...   \n",
       "88  {'retweet_count': 239, 'reply_count': 0, 'like...   \n",
       "89  {'retweet_count': 110, 'reply_count': 0, 'like...   \n",
       "\n",
       "                                                 text               source  \\\n",
       "0      RT @KurtSchlichter: 👏Climate👏change👏is👏a👏hoax👏     Twitter for iPad   \n",
       "1   RT @KHayhoe: How does climate change affect he...   Twitter for iPhone   \n",
       "2   RT @hrdtimez: and every day people are the one...   Twitter for iPhone   \n",
       "3   They are fast tracking their agendas.  Trying ...  Twitter for Android   \n",
       "4   RT @KurtSchlichter: Climate change is a hoax d...   Twitter for iPhone   \n",
       "..                                                ...                  ...   \n",
       "85  RT @joshgad: To look around and see what’s hap...   Twitter for iPhone   \n",
       "86  RT @CatInthehat002: Some of the worlds “elites...      Twitter Web App   \n",
       "87  RT @Climatepledgeco: Want to support Ukraine a...      Twitter Web App   \n",
       "88  RT @MattH_4America: \"Climate Change\" is a hoax...  Twitter for Android   \n",
       "89  RT @shocks: it's 2008, the min wage is 7.25, a...   Twitter for iPhone   \n",
       "\n",
       "        conversation_id                                  referenced_tweets  \\\n",
       "0   1549587618551062528  [{'type': 'retweeted', 'id': '1549549544681050...   \n",
       "1   1549587617443975168  [{'type': 'retweeted', 'id': '1549459174844731...   \n",
       "2   1549587616546168832  [{'type': 'retweeted', 'id': '1549557847876595...   \n",
       "3   1549587612582780928  [{'type': 'quoted', 'id': '1549123326244798466'}]   \n",
       "4   1549587609302831104  [{'type': 'retweeted', 'id': '1549389251149709...   \n",
       "..                  ...                                                ...   \n",
       "85  1549587373511540737  [{'type': 'retweeted', 'id': '1549474946035765...   \n",
       "86  1549587372672962560  [{'type': 'retweeted', 'id': '1549297077255294...   \n",
       "87  1549587371145961472  [{'type': 'retweeted', 'id': '1549572165317558...   \n",
       "88  1549587370084810753  [{'type': 'retweeted', 'id': '1549544142048468...   \n",
       "89  1549587367756869632  [{'type': 'retweeted', 'id': '1549437077040799...   \n",
       "\n",
       "                user_id referenced_tweets_ids  retweet_count  \\\n",
       "0             532256657   1549549544681050112            328   \n",
       "1    976078973418446848   1549459174844731392            505   \n",
       "2            1516374858   1549557847876595713              1   \n",
       "3   1285057671058591746   1549123326244798466              0   \n",
       "4             565673259   1549389251149709312           1981   \n",
       "..                  ...                   ...            ...   \n",
       "85            930534103   1549474946035765248             46   \n",
       "86  1540911226540400640   1549297077255294977              8   \n",
       "87            291212837   1549572165317558273              3   \n",
       "88   866348764432392192   1549544142048468998            239   \n",
       "89            460406062   1549437077040799747            110   \n",
       "\n",
       "   in_reply_to_user_id  \n",
       "0                  NaN  \n",
       "1                  NaN  \n",
       "2                  NaN  \n",
       "3                  NaN  \n",
       "4                  NaN  \n",
       "..                 ...  \n",
       "85                 NaN  \n",
       "86                 NaN  \n",
       "87                 NaN  \n",
       "88                 NaN  \n",
       "89                 NaN  \n",
       "\n",
       "[90 rows x 14 columns]"
      ]
     },
     "execution_count": 27,
     "metadata": {},
     "output_type": "execute_result"
    }
   ],
   "source": [
    "climate_feed_df"
   ]
  },
  {
   "cell_type": "markdown",
   "metadata": {},
   "source": [
    "# Q3(1 points) List datatype using climate_feed_df. Describe which attributes doesn't have correct data types. What should be correct datatype?"
   ]
  },
  {
   "cell_type": "code",
   "execution_count": 28,
   "metadata": {},
   "outputs": [
    {
     "data": {
      "text/plain": [
       "entities                 object\n",
       "reply_settings           object\n",
       "lang                     object\n",
       "id                       object\n",
       "created_at               object\n",
       "public_metrics           object\n",
       "text                     object\n",
       "source                   object\n",
       "conversation_id          object\n",
       "referenced_tweets        object\n",
       "user_id                  object\n",
       "referenced_tweets_ids    object\n",
       "retweet_count             int64\n",
       "in_reply_to_user_id      object\n",
       "dtype: object"
      ]
     },
     "execution_count": 28,
     "metadata": {},
     "output_type": "execute_result"
    }
   ],
   "source": [
    "# write code here datatype listing\n",
    "\n",
    "climate_feed_df.dtypes"
   ]
  },
  {
   "cell_type": "markdown",
   "metadata": {},
   "source": [
    "# Write columns with wrong datatype and mention correct data type too.\n",
    "\n",
    "All IDs should be either strings or integers. Text should be a string. \n"
   ]
  },
  {
   "cell_type": "markdown",
   "metadata": {},
   "source": [
    "# Q4 (1.5 point) Complete following tweet_user_generator. Generator should yield only *user* value from a tweet\n",
    "\n",
    "- As per the twitter API the user information is in the 'users' object within the 'includes' object of the response."
   ]
  },
  {
   "cell_type": "code",
   "execution_count": 29,
   "metadata": {},
   "outputs": [],
   "source": [
    "def tweet_user_generator(tweet_user_list):\n",
    "    for user in tweet_user_list:\n",
    "        try:\n",
    "            yield user\n",
    "        except KeyError:\n",
    "            continue\n"
   ]
  },
  {
   "cell_type": "code",
   "execution_count": 30,
   "metadata": {},
   "outputs": [],
   "source": [
    "user_df = pd.DataFrame(tweet_user_generator(climate_tweets))"
   ]
  },
  {
   "cell_type": "code",
   "execution_count": 31,
   "metadata": {},
   "outputs": [
    {
     "data": {
      "text/html": [
       "<div>\n",
       "<style scoped>\n",
       "    .dataframe tbody tr th:only-of-type {\n",
       "        vertical-align: middle;\n",
       "    }\n",
       "\n",
       "    .dataframe tbody tr th {\n",
       "        vertical-align: top;\n",
       "    }\n",
       "\n",
       "    .dataframe thead th {\n",
       "        text-align: right;\n",
       "    }\n",
       "</style>\n",
       "<table border=\"1\" class=\"dataframe\">\n",
       "  <thead>\n",
       "    <tr style=\"text-align: right;\">\n",
       "      <th></th>\n",
       "      <th>0</th>\n",
       "    </tr>\n",
       "  </thead>\n",
       "  <tbody>\n",
       "    <tr>\n",
       "      <th>0</th>\n",
       "      <td>data</td>\n",
       "    </tr>\n",
       "    <tr>\n",
       "      <th>1</th>\n",
       "      <td>includes</td>\n",
       "    </tr>\n",
       "    <tr>\n",
       "      <th>2</th>\n",
       "      <td>meta</td>\n",
       "    </tr>\n",
       "  </tbody>\n",
       "</table>\n",
       "</div>"
      ],
      "text/plain": [
       "          0\n",
       "0      data\n",
       "1  includes\n",
       "2      meta"
      ]
     },
     "execution_count": 31,
     "metadata": {},
     "output_type": "execute_result"
    }
   ],
   "source": [
    "user_df"
   ]
  },
  {
   "cell_type": "markdown",
   "metadata": {},
   "source": [
    "# Q5(1 point) List datatypes of columns using user_df. Describe which attributes doesn't have correct data types. What should be correct datatype for each case?"
   ]
  },
  {
   "cell_type": "code",
   "execution_count": 32,
   "metadata": {},
   "outputs": [
    {
     "data": {
      "text/plain": [
       "0    object\n",
       "dtype: object"
      ]
     },
     "execution_count": 32,
     "metadata": {},
     "output_type": "execute_result"
    }
   ],
   "source": [
    "user_df.dtypes"
   ]
  },
  {
   "cell_type": "markdown",
   "metadata": {},
   "source": [
    "# write columns with wrong datatype and mention correct data type too.\n",
    "\n",
    "This is a bit tricky since question 4 doesn't really do anything. My guess that column 0 should be a string. "
   ]
  },
  {
   "cell_type": "markdown",
   "metadata": {},
   "source": [
    "# Q6 (1 point) Complete following retweeted_status_generator. Generator should yield dictionary of retweeted_status value from each tweet. If a tweet doesn't have this key return empty dictionary.\n",
    "\n",
    "- As per the twitter API the user information is in the 'users' object within the 'includes' object of the response."
   ]
  },
  {
   "cell_type": "code",
   "execution_count": 33,
   "metadata": {},
   "outputs": [],
   "source": [
    "retweeted_status_df = climate_feed_df[['id', 'retweet_count']]"
   ]
  },
  {
   "cell_type": "code",
   "execution_count": 34,
   "metadata": {},
   "outputs": [
    {
     "data": {
      "text/html": [
       "<div>\n",
       "<style scoped>\n",
       "    .dataframe tbody tr th:only-of-type {\n",
       "        vertical-align: middle;\n",
       "    }\n",
       "\n",
       "    .dataframe tbody tr th {\n",
       "        vertical-align: top;\n",
       "    }\n",
       "\n",
       "    .dataframe thead th {\n",
       "        text-align: right;\n",
       "    }\n",
       "</style>\n",
       "<table border=\"1\" class=\"dataframe\">\n",
       "  <thead>\n",
       "    <tr style=\"text-align: right;\">\n",
       "      <th></th>\n",
       "      <th>id</th>\n",
       "      <th>retweet_count</th>\n",
       "    </tr>\n",
       "  </thead>\n",
       "  <tbody>\n",
       "    <tr>\n",
       "      <th>0</th>\n",
       "      <td>1549587618551062528</td>\n",
       "      <td>328</td>\n",
       "    </tr>\n",
       "    <tr>\n",
       "      <th>1</th>\n",
       "      <td>1549587617443975168</td>\n",
       "      <td>505</td>\n",
       "    </tr>\n",
       "    <tr>\n",
       "      <th>2</th>\n",
       "      <td>1549587616546168832</td>\n",
       "      <td>1</td>\n",
       "    </tr>\n",
       "    <tr>\n",
       "      <th>3</th>\n",
       "      <td>1549587612582780928</td>\n",
       "      <td>0</td>\n",
       "    </tr>\n",
       "    <tr>\n",
       "      <th>4</th>\n",
       "      <td>1549587609302831104</td>\n",
       "      <td>1981</td>\n",
       "    </tr>\n",
       "  </tbody>\n",
       "</table>\n",
       "</div>"
      ],
      "text/plain": [
       "                    id  retweet_count\n",
       "0  1549587618551062528            328\n",
       "1  1549587617443975168            505\n",
       "2  1549587616546168832              1\n",
       "3  1549587612582780928              0\n",
       "4  1549587609302831104           1981"
      ]
     },
     "execution_count": 34,
     "metadata": {},
     "output_type": "execute_result"
    }
   ],
   "source": [
    "retweeted_status_df.head()"
   ]
  },
  {
   "cell_type": "markdown",
   "metadata": {},
   "source": [
    "# Q7 (1 point) Write code to find number of rows in retweeted_status_df that were not retweeted. print number of such rows."
   ]
  },
  {
   "cell_type": "code",
   "execution_count": 37,
   "metadata": {},
   "outputs": [
    {
     "name": "stdout",
     "output_type": "stream",
     "text": [
      "14\n"
     ]
    }
   ],
   "source": [
    "# Write code here\n",
    "\n",
    "not_retweeted = (retweeted_status_df['retweet_count'] == 0).sum()\n",
    "print(not_retweeted)"
   ]
  }
 ],
 "metadata": {
  "kernelspec": {
   "display_name": "Python 3 (ipykernel)",
   "language": "python",
   "name": "python3"
  },
  "language_info": {
   "codemirror_mode": {
    "name": "ipython",
    "version": 3
   },
   "file_extension": ".py",
   "mimetype": "text/x-python",
   "name": "python",
   "nbconvert_exporter": "python",
   "pygments_lexer": "ipython3",
   "version": "3.10.5"
  },
  "toc": {
   "base_numbering": 1,
   "nav_menu": {},
   "number_sections": false,
   "sideBar": true,
   "skip_h1_title": false,
   "title_cell": "Table of Contents",
   "title_sidebar": "Contents",
   "toc_cell": false,
   "toc_position": {},
   "toc_section_display": true,
   "toc_window_display": false
  },
  "varInspector": {
   "cols": {
    "lenName": 16,
    "lenType": 16,
    "lenVar": 40
   },
   "kernels_config": {
    "python": {
     "delete_cmd_postfix": "",
     "delete_cmd_prefix": "del ",
     "library": "var_list.py",
     "varRefreshCmd": "print(var_dic_list())"
    },
    "r": {
     "delete_cmd_postfix": ") ",
     "delete_cmd_prefix": "rm(",
     "library": "var_list.r",
     "varRefreshCmd": "cat(var_dic_list()) "
    }
   },
   "types_to_exclude": [
    "module",
    "function",
    "builtin_function_or_method",
    "instance",
    "_Feature"
   ],
   "window_display": false
  },
  "vscode": {
   "interpreter": {
    "hash": "94a612ca3ab8f7916b587b59f3240287289e370465bbcfbcbd0b0bdda4e214bb"
   }
  }
 },
 "nbformat": 4,
 "nbformat_minor": 2
}
